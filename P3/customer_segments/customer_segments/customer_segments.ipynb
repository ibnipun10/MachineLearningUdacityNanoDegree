{
 "cells": [
  {
   "cell_type": "markdown",
   "metadata": {},
   "source": [
    "# Creating Customer Segments"
   ]
  },
  {
   "cell_type": "markdown",
   "metadata": {},
   "source": [
    "In this project you, will analyze a dataset containing annual spending amounts for internal structure, to understand the variation in the different types of customers that a wholesale distributor interacts with.\n",
    "\n",
    "Instructions:\n",
    "\n",
    "- Run each code block below by pressing **Shift+Enter**, making sure to implement any steps marked with a TODO.\n",
    "- Answer each question in the space provided by editing the blocks labeled \"Answer:\".\n",
    "- When you are done, submit the completed notebook (.ipynb) with all code blocks executed, as well as a .pdf version (File > Download as)."
   ]
  },
  {
   "cell_type": "code",
   "execution_count": 1,
   "metadata": {
    "collapsed": false
   },
   "outputs": [
    {
     "name": "stdout",
     "output_type": "stream",
     "text": [
      "Dataset has 440 rows, 6 columns\n",
      "   Fresh  Milk  Grocery  Frozen  Detergents_Paper  Delicatessen\n",
      "0  12669  9656     7561     214              2674          1338\n",
      "1   7057  9810     9568    1762              3293          1776\n",
      "2   6353  8808     7684    2405              3516          7844\n",
      "3  13265  1196     4221    6404               507          1788\n",
      "4  22615  5410     7198    3915              1777          5185\n",
      "               Fresh          Milk       Grocery        Frozen  \\\n",
      "count     440.000000    440.000000    440.000000    440.000000   \n",
      "mean    12000.297727   5796.265909   7951.277273   3071.931818   \n",
      "std     12647.328865   7380.377175   9503.162829   4854.673333   \n",
      "min         3.000000     55.000000      3.000000     25.000000   \n",
      "25%      3127.750000   1533.000000   2153.000000    742.250000   \n",
      "50%      8504.000000   3627.000000   4755.500000   1526.000000   \n",
      "75%     16933.750000   7190.250000  10655.750000   3554.250000   \n",
      "max    112151.000000  73498.000000  92780.000000  60869.000000   \n",
      "\n",
      "       Detergents_Paper  Delicatessen  \n",
      "count        440.000000    440.000000  \n",
      "mean        2881.493182   1524.870455  \n",
      "std         4767.854448   2820.105937  \n",
      "min            3.000000      3.000000  \n",
      "25%          256.750000    408.250000  \n",
      "50%          816.500000    965.500000  \n",
      "75%         3922.000000   1820.250000  \n",
      "max        40827.000000  47943.000000  \n"
     ]
    }
   ],
   "source": [
    "# Import libraries: NumPy, pandas, matplotlib\n",
    "import numpy as np\n",
    "import pandas as pd\n",
    "import matplotlib.pyplot as plt\n",
    "from sklearn.cluster import KMeans\n",
    "from mpl_toolkits.mplot3d import Axes3D\n",
    "\n",
    "# Tell iPython to include plots inline in the notebook\n",
    "%matplotlib inline\n",
    "\n",
    "# Read dataset\n",
    "data = pd.read_csv(\"wholesale-customers.csv\")\n",
    "print \"Dataset has {} rows, {} columns\".format(*data.shape)\n",
    "print data.head()  # print the first 5 rows\n",
    "print data.describe()"
   ]
  },
  {
   "cell_type": "markdown",
   "metadata": {},
   "source": [
    "##Feature Transformation"
   ]
  },
  {
   "cell_type": "markdown",
   "metadata": {},
   "source": [
    "**1)** In this section you will be using PCA and ICA to start to understand the structure of the data. Before doing any computations, what do you think will show up in your computations? List one or two ideas for what might show up as the first PCA dimensions, or what type of vectors will show up as ICA dimensions."
   ]
  },
  {
   "cell_type": "markdown",
   "metadata": {},
   "source": [
    "Answer: In PCA, we reduce the number of dimensions. This is done by finding out PC1, PC2...dimensions. PC1 is the dimension with most variance of data, PC2 the next dimension with second best variance and so on.\n",
    "\n",
    "Looking at the data....\n",
    "1) My guess for first PCA dimension can be the features with maximum spread of data with high standard deviation eg.. Fresh, milk and Grocery, seems to have high values and large mean and large std dev which means large spread of data. They will mainly dominate the PC dimensions. "
   ]
  },
  {
   "cell_type": "markdown",
   "metadata": {},
   "source": [
    "###PCA"
   ]
  },
  {
   "cell_type": "code",
   "execution_count": 2,
   "metadata": {
    "collapsed": false
   },
   "outputs": [
    {
     "name": "stdout",
     "output_type": "stream",
     "text": [
      "Scaled data\n",
      "[[ 0.11294004  0.13072723  0.08146416  0.0031063   0.0654272   0.02784731]\n",
      " [ 0.06289903  0.13282409  0.10309667  0.02854842  0.08058985  0.03698373]\n",
      " [ 0.05662161  0.11918086  0.08278992  0.03911643  0.08605232  0.16355861]\n",
      " [ 0.11825445  0.01553586  0.04546385  0.10484189  0.01234568  0.03723404]\n",
      " [ 0.20162642  0.07291369  0.07755155  0.063934    0.04345483  0.10809345]]\n",
      "PCA Components\n",
      "[[-0.018545    0.49047312  0.57644674 -0.01741587  0.647882    0.08213992]\n",
      " [-0.86387717 -0.18182434  0.00363933 -0.39690977  0.12652721 -0.21701704]\n",
      " [ 0.50178356 -0.33371506  0.08680857 -0.65833746  0.22070584 -0.38365676]\n",
      " [-0.02403365 -0.62796031  0.19740892  0.60521878  0.35050483 -0.27744285]\n",
      " [-0.00662714 -0.46794556  0.20894177 -0.20580297  0.05718506  0.83168587]\n",
      " [-0.03104894 -0.0412685   0.75995608 -0.01031851 -0.6240232  -0.17403508]]\n",
      "PCA Varianced Ratio\n",
      "[ 0.51948323  0.26407007  0.106061    0.06258016  0.03497422  0.01283132]\n",
      "New dataset\n",
      "(440, 3)\n",
      "[[ 10698 -12709   3727]\n",
      " [ 12444  -8513    -16]\n",
      " [ 11511  -9273  -2901]\n",
      " [  3137 -14526   1833]\n",
      " [  7892 -22948   5992]\n",
      " [  8101  -9966   1813]\n",
      " [  7435 -10943   5790]\n",
      " [ 10057  -8213   1617]\n",
      " [  6413  -5906   2123]\n",
      " [ 21175  -7112   1021]]\n"
     ]
    },
    {
     "name": "stderr",
     "output_type": "stream",
     "text": [
      "c:\\python27\\lib\\site-packages\\matplotlib\\collections.py:590: FutureWarning: elementwise comparison failed; returning scalar instead, but in the future will perform elementwise comparison\n",
      "  if self._edgecolors == str('face'):\n"
     ]
    },
    {
     "data": {
      "text/plain": [
       "<mpl_toolkits.mplot3d.art3d.Path3DCollection at 0x8945a30>"
      ]
     },
     "execution_count": 2,
     "metadata": {},
     "output_type": "execute_result"
    },
    {
     "data": {
      "image/png": "[encoded data removed]",
      "text/plain": [
       "<matplotlib.figure.Figure at 0x881b6f0>"
      ]
     },
     "metadata": {},
     "output_type": "display_data"
    },
    {
     "data": {
      "image/png": "[encoded data removed]",
      "text/plain": [
       "<matplotlib.figure.Figure at 0x88ba6b0>"
      ]
     },
     "metadata": {},
     "output_type": "display_data"
    }
   ],
   "source": [
    "# TODO: Apply PCA with the same number of dimensions as variables in the dataset\n",
    "from sklearn.decomposition import PCA\n",
    "from sklearn.preprocessing import MinMaxScaler\n",
    "\n",
    "#convert to numpy array \n",
    "data=np.float64(data)\n",
    "\n",
    "#scale the data before applying PCA\n",
    "scaler = MinMaxScaler()\n",
    "scaledData = scaler.fit_transform(data)\n",
    "\n",
    "print \"Scaled data\"\n",
    "print scaledData[:5]\n",
    "\n",
    "#Apply PCA\n",
    "\n",
    "pca = PCA()\n",
    "pca.fit(scaledData)\n",
    "\n",
    "# Print the components and the amount of variance in the data contained in each dimension\n",
    "print \"PCA Components\"\n",
    "print pca.components_\n",
    "print \"PCA Varianced Ratio\"\n",
    "print pca.explained_variance_ratio_\n",
    "\n",
    "for i in range(0,5):\n",
    "    plt.annotate('PC' + str(i+1),xy=(i+.5,pca.explained_variance_ratio_[i]))\n",
    "plt.plot(pca.explained_variance_ratio_)\n",
    "\n",
    "#After analysing taking only 3 components\n",
    "pca = PCA(n_components = 3)\n",
    "pca.fit(scaledData)\n",
    "\n",
    "print \"New dataset\"\n",
    "newData = pca.transform(data)\n",
    "newData = np.int64(newData)\n",
    "print newData.shape\n",
    "\n",
    "print newData[:10]\n",
    "\n",
    "#draw a scatter plot with 3 dimensions\n",
    "fig = plt.figure()\n",
    "ax = fig.add_subplot(111, projection = '3d')\n",
    "x = newData[:,[0]]\n",
    "y = newData[:,[1]]\n",
    "z = newData[:,[2]]\n",
    "\n",
    "ax.set_xlabel('PC1')\n",
    "ax.set_ylabel('PC2')\n",
    "ax.set_zlabel('PC3')\n",
    "\n",
    "\n",
    "ax.scatter(x,y,z)\n",
    "\n",
    "\n"
   ]
  },
  {
   "cell_type": "markdown",
   "metadata": {},
   "source": [
    "**2)** How quickly does the variance drop off by dimension? If you were to use PCA on this dataset, how many dimensions would you choose for your analysis? Why?"
   ]
  },
  {
   "cell_type": "markdown",
   "metadata": {
    "collapsed": true
   },
   "source": [
    "Answer: As shown in the digram for explained variance ratio, there is a huge drop in variance till PC2 and after that it sorts of stabilize. Looking at the graph most of the variance will be covered by PC1, PC2, PC3 (approx 90%) so I will be taking PC1, PC2 and PC3 as my dimensions"
   ]
  },
  {
   "cell_type": "markdown",
   "metadata": {},
   "source": [
    "**3)** What do the dimensions seem to represent? How can you use this information?"
   ]
  },
  {
   "cell_type": "markdown",
   "metadata": {
    "collapsed": true
   },
   "source": [
    "Answer: Lets only concentrate on the first 3 principal components since they provide the maximum variance in data. Taking .5 or above loaders in components.\n",
    "        Fresh       Milk        Grocery     Frozen       Detergents_Paper  Delicatessen\n",
    "PC1 : [-0.018545    0.49047312  0.57644674  -0.01741587  0.647882          0.08213992]\n",
    "PC2 : [-0.86387717 -0.18182434  0.00363933  -0.39690977  0.12652721        -0.21701704]\n",
    "PC3 : [ 0.50178356 -0.33371506  0.08680857  -0.65833746  0.22070584        -0.38365676]\n",
    "\n",
    "Above are the coefficients for 3 components.\n",
    "Principal Component 1\n",
    "Looking at PC1 coefficients, Milk, Grocery and Detergents_paper dominate the variance of data. Since all are positive therefore the first PC1 score increases with the increase in Milk, Grocery and Detergents_paper. If one increases the other 2 also increases. So in this dimension the annual spending for clients is highly affected by Detergents_Paper, Grocery and Milk.  \n",
    "\n",
    "Principal Component 2\n",
    "Here Fresh dominates the component and seems like clients have a lot of buying for Fresh items.\n",
    "\n",
    "Principal Component 3\n",
    "Here we can see that Fresh and Frozen are invesely related so higher annual spending on Fresh seems to reduce the spending on Frozen by clients and vice-versa.\n"
   ]
  },
  {
   "cell_type": "markdown",
   "metadata": {},
   "source": [
    "###ICA"
   ]
  },
  {
   "cell_type": "code",
   "execution_count": 3,
   "metadata": {
    "collapsed": false
   },
   "outputs": [
    {
     "name": "stdout",
     "output_type": "stream",
     "text": [
      "[[ 0.03853261  0.54388874 -0.16280993 -0.00796398  0.10872827 -0.26649147]\n",
      " [-0.02739071  0.21199832  1.04696149 -0.09263954 -1.13716328 -0.28044286]\n",
      " [-0.44541029  0.07333893  0.08474204  0.04101321 -0.10236417  0.03858776]\n",
      " [-0.09615742 -0.01581707  0.08341565  0.67830316 -0.02555605 -0.2847388 ]\n",
      " [-0.04414689 -0.02232292 -0.06619554 -0.03168477  0.02492801  0.87309021]\n",
      " [-0.01660878  0.47769036 -0.87651893 -0.01560165  0.19154327 -0.07999962]]\n"
     ]
    }
   ],
   "source": [
    "# TODO: Fit an ICA model to the data\n",
    "# Note: Adjust the data to have center at the origin first!\n",
    "from sklearn.decomposition import FastICA\n",
    "ica = FastICA()\n",
    "\n",
    "#data is already adjusted above using MinMaxScaler\n",
    "ica.fit(scaledData)\n",
    "\n",
    "# Print the independent components\n",
    "print ica.components_"
   ]
  },
  {
   "cell_type": "markdown",
   "metadata": {},
   "source": [
    "**4)** For each vector in the ICA decomposition, write a sentence or two explaining what sort of object or property it corresponds to. What could these components be used for?"
   ]
  },
  {
   "cell_type": "markdown",
   "metadata": {
    "collapsed": true
   },
   "source": [
    "Answer: ICA transforms each vector or feature into independent vectors with no corelation whatsoever with the other ICA vector. \n",
    "\n",
    "        Fresh         Milk       Grocery     Frozen     Detergents_Paper  Delicatessen\n",
    "ICA1 : [ 0.04333912  0.01612432  0.05572712  0.03176696 -0.02081737      -0.86735708]\n",
    "ICA2 : [ 0.01721693  0.72311694 -0.53889526 -0.02215674  0.13515269      -0.2904316 ]\n",
    "ICA3 : [ 0.4458909  -0.06308901 -0.05796242 -0.04121706  0.0841773       -0.0500125 ]\n",
    "ICA4 : [ 0.0970305   0.01031359 -0.07181442 -0.67817688  0.02266067       0.28534983]\n",
    "ICA5 : [-0.02362195  0.1385175  -0.59548473 -0.02507836  0.03224109       0.06957115]\n",
    "ICA6 : [-0.03361661  0.16923838  1.11928971 -0.08898534 -1.15154917      -0.27475955]\n",
    "\n",
    "ICA1\n",
    "In the first vector Delicatessen has a lot of weight and is influenced by it. It can refer to stores or restuarents who serve ready made cooked food.\n",
    "\n",
    "ICA2\n",
    "This is mainly influenced by Milk and negative influenced by Grocery. So probably corresponds to Milk or dairy industries who are more interested in Milk therefore lesser impact on Grocery or by general stores who keep grocery products and do not provide milk products.\n",
    "\n",
    "ICA3\n",
    "This is influenced by Fresh and can symbolize shops providing fresh products, like bakery or cake shops\n",
    "\n",
    "ICA4\n",
    "Mainly influenced by Frozen item and can be used by industries like ice creams, vegetable sellers, even dairy\n",
    "\n",
    "ICA5\n",
    "influenced by Grocery, so can deduce for industries or shops like general stores.\n",
    "\n",
    "ICA6\n",
    "Grocery and Detergent paper. Grocery invesely proportionate with Detergents_Paper. Washing machine or toilet product industries, laundary  or general stores \n",
    "\n",
    "These components can be used to identify or guess which industry is asking for which products. "
   ]
  },
  {
   "cell_type": "markdown",
   "metadata": {},
   "source": [
    "##Clustering\n",
    "\n",
    "In this section you will choose either K Means clustering or Gaussian Mixed Models clustering, which implements expectation-maximization. Then you will sample elements from the clusters to understand their significance."
   ]
  },
  {
   "cell_type": "markdown",
   "metadata": {},
   "source": [
    "###Choose a Cluster Type\n",
    "\n",
    "**5)** What are the advantages of using K Means clustering or Gaussian Mixture Models?"
   ]
  },
  {
   "cell_type": "markdown",
   "metadata": {},
   "source": [
    "Answer: Here are some of the advantages of using K Means clustering or Gaussian Mixture Models\n",
    "1) They are very simple algorithm with low computation cost, fast and effective. FOr large number of data points it uses less iterations to find out the cluster\n",
    "2) "
   ]
  },
  {
   "cell_type": "markdown",
   "metadata": {},
   "source": [
    "**6)** Below is some starter code to help you visualize some cluster data. The visualization is based on [this demo](http://scikit-learn.org/stable/auto_examples/cluster/plot_kmeans_digits.html) from the sklearn documentation."
   ]
  },
  {
   "cell_type": "code",
   "execution_count": 4,
   "metadata": {
    "collapsed": true
   },
   "outputs": [],
   "source": [
    "# Import clustering modules\n",
    "from sklearn.cluster import KMeans\n",
    "from sklearn.mixture import GMM"
   ]
  },
  {
   "cell_type": "code",
   "execution_count": 5,
   "metadata": {
    "collapsed": false
   },
   "outputs": [
    {
     "name": "stdout",
     "output_type": "stream",
     "text": [
      "[[ 10698.05509204 -12709.48833465]\n",
      " [ 12444.64759285  -8513.25591167]\n",
      " [ 11511.92784551  -9273.61172404]\n",
      " [  3137.46598834 -14526.99418283]\n",
      " [  7892.19339745 -22948.22815388]\n",
      " [  8101.52043467  -9966.70097994]\n",
      " [  7435.48572054 -10943.01772832]\n",
      " [ 10057.0060292   -8213.12933584]\n",
      " [  6413.8558184   -5906.26463656]\n",
      " [ 21175.8630962   -7112.44105503]]\n"
     ]
    }
   ],
   "source": [
    "# TODO: First we reduce the data to two dimensions using PCA to capture variation\n",
    "pca = PCA(n_components=2)\n",
    "pca.fit(scaledData)\n",
    "reduced_data = pca.transform(data)\n",
    "reduced_data = np.float64(reduced_data)\n",
    "print reduced_data[:10]  # print upto 10 elements"
   ]
  },
  {
   "cell_type": "code",
   "execution_count": 6,
   "metadata": {
    "collapsed": false
   },
   "outputs": [
    {
     "name": "stdout",
     "output_type": "stream",
     "text": [
      "cluster centre\n",
      "[[  6166.232683    -8870.55887716]\n",
      " [ 34500.0759442   -9759.04432548]\n",
      " [  6740.64936912 -35386.5183626 ]]\n",
      "KMeans(copy_x=True, init='k-means++', max_iter=300, n_clusters=3, n_init=10,\n",
      "    n_jobs=1, precompute_distances='auto', random_state=None, tol=0.0001,\n",
      "    verbose=0)\n"
     ]
    }
   ],
   "source": [
    "# TODO: Implement your clustering algorithm here, and fit it to the reduced data for visualization\n",
    "# The visualizer below assumes your clustering object is named 'clusters'\n",
    "\n",
    "clusters = KMeans(n_clusters=3)\n",
    "clusters.fit(reduced_data)\n",
    "\n",
    "print \"cluster centre\"\n",
    "print clusters.cluster_centers_ \n",
    "print clusters"
   ]
  },
  {
   "cell_type": "code",
   "execution_count": 7,
   "metadata": {
    "collapsed": false
   },
   "outputs": [],
   "source": [
    "# Plot the decision boundary by building a mesh grid to populate a graph.\n",
    "x_min, x_max = reduced_data[:, 0].min() - 1, reduced_data[:, 0].max() + 1\n",
    "y_min, y_max = reduced_data[:, 1].min() - 1, reduced_data[:, 1].max() + 1\n",
    "hx = (x_max-x_min)/1000.\n",
    "hy = (y_max-y_min)/1000.\n",
    "xx, yy = np.meshgrid(np.arange(x_min, x_max, hx), np.arange(y_min, y_max, hy))\n",
    "\n",
    "# Obtain labels for each point in mesh. Use last trained model.\n",
    "Z = clusters.predict(np.c_[xx.ravel(), yy.ravel()])"
   ]
  },
  {
   "cell_type": "code",
   "execution_count": 8,
   "metadata": {
    "collapsed": false
   },
   "outputs": [
    {
     "name": "stdout",
     "output_type": "stream",
     "text": [
      "[[  6166.232683    -8870.55887716]\n",
      " [ 34500.0759442   -9759.04432548]\n",
      " [  6740.64936912 -35386.5183626 ]]\n"
     ]
    }
   ],
   "source": [
    "# TODO: Find the centroids for KMeans or the cluster means for GMM \n",
    "\n",
    "centroids = clusters.cluster_centers_ \n",
    "print centroids"
   ]
  },
  {
   "cell_type": "code",
   "execution_count": 9,
   "metadata": {
    "collapsed": false
   },
   "outputs": [
    {
     "data": {
      "image/png": "[encoded data removed]",
      "text/plain": [
       "<matplotlib.figure.Figure at 0x883aa50>"
      ]
     },
     "metadata": {},
     "output_type": "display_data"
    }
   ],
   "source": [
    "# Put the result into a color plot\n",
    "Z = Z.reshape(xx.shape)\n",
    "plt.figure(1)\n",
    "plt.clf()\n",
    "plt.imshow(Z, interpolation='nearest',\n",
    "           extent=(xx.min(), xx.max(), yy.min(), yy.max()),\n",
    "           cmap=plt.cm.Paired,\n",
    "           aspect='auto', origin='lower')\n",
    "\n",
    "plt.plot(reduced_data[:, 0], reduced_data[:, 1], 'k.', markersize=2)\n",
    "plt.scatter(centroids[:, 0], centroids[:, 1],\n",
    "            marker='x', s=169, linewidths=3,\n",
    "            color='rgb', zorder=10)\n",
    "plt.title('Clustering on the wholesale grocery dataset (PCA-reduced data)\\n'\n",
    "          'Centroids are marked with white cross')\n",
    "plt.xlim(x_min, x_max)\n",
    "plt.ylim(y_min, y_max)\n",
    "plt.xticks(())\n",
    "plt.yticks(())\n",
    "plt.show()"
   ]
  },
  {
   "cell_type": "markdown",
   "metadata": {},
   "source": [
    "**7)** What are the central objects in each cluster? Describe them as customers."
   ]
  },
  {
   "cell_type": "markdown",
   "metadata": {
    "collapsed": true
   },
   "source": [
    "Answer: I have identified 3 cluster based on the visualization of data for PCA as above. Here is the description for each central objects\n",
    "\n",
    "1) Green : [  5919.82061921  -8807.15568795]\n",
    "Most of the points are around this point. These are the points where the annual revenue was mainly from Grocery, milk and Detergent_paper and Fresh products with moderate buying for these buying by the customers. Looking at this we can say that most of the customers bought Grocery, milk, Detergent_paper and Fresh items. So customers like Dairy farms, laundry industry, general stores, ice cream parlours etc.\n",
    "\n",
    "\n",
    "2) Red :   [ 32756.28201125 -10063.52935606]\n",
    "Few points lie in this area. These seems to be the years where customers bought large amount of Grocery, milk and Detergent_paper. Customers like Dairy farms, general stores were more prominent here\n",
    "\n",
    "3) Blue :  [ 6740.64936912 -35386.5183626 ]\n",
    "Few points lie in this area. These seems to be the years where customers bought large amounts of Fresh products. FResh products more demand in these years"
   ]
  },
  {
   "cell_type": "markdown",
   "metadata": {},
   "source": [
    "###Conclusions\n",
    "\n",
    "** 8)** Which of these techniques did you feel gave you the most insight into the data?"
   ]
  },
  {
   "cell_type": "markdown",
   "metadata": {
    "collapsed": true
   },
   "source": [
    "Answer: PC and kmeans gave me most insights into the data. Through PCA I was able to find the correlation and reduce the dimension to properly understand the variuos aspects of data, and then through kmeans I was able to guess which all customers are those to focus on"
   ]
  },
  {
   "cell_type": "markdown",
   "metadata": {
    "collapsed": true
   },
   "source": [
    "**9)** How would you use that technique to help the company design new experiments?"
   ]
  },
  {
   "cell_type": "markdown",
   "metadata": {},
   "source": [
    "Answer: Looking at the outliers( the 2 cluster with less number of points), it seems that there are customers who have huge demand for fresh items and there is another segment of customer who has huge demand for grocery,milk and detergent_paper. But most of the customers are from smaller segment. Looking at this, we should not loose out on the smaller shop vendors as they are the ones who form the bulk.  "
   ]
  },
  {
   "cell_type": "markdown",
   "metadata": {},
   "source": [
    "**10)** How would you use that data to help you predict future customer needs?\n"
   ]
  },
  {
   "cell_type": "markdown",
   "metadata": {},
   "source": [
    "Answer: Grocey, milk, detergent_paper and fresh will be my list of items that will be on my priority. "
   ]
  }
 ],
 "metadata": {
  "kernelspec": {
   "display_name": "Python 2",
   "language": "python",
   "name": "python2"
  },
  "language_info": {
   "codemirror_mode": {
    "name": "ipython",
    "version": 2
   },
   "file_extension": ".py",
   "mimetype": "text/x-python",
   "name": "python",
   "nbconvert_exporter": "python",
   "pygments_lexer": "ipython2",
   "version": "2.7.10"
  }
 },
 "nbformat": 4,
 "nbformat_minor": 0
}
